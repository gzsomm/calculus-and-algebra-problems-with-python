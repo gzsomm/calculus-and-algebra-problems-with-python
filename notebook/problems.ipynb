{
 "cells": [
  {
   "cell_type": "markdown",
   "id": "5dbe7b9e",
   "metadata": {},
   "source": [
    "# Calculus and Algebra problems"
   ]
  },
  {
   "cell_type": "markdown",
   "id": "519c4b12",
   "metadata": {},
   "source": [
    "## Calculus\n",
    "\n",
    "Calculus is not obscure. It is the language for modeling behaviors. Calculus enables us to find the rate of changes in order to optimize a function. Without calculus, we would not be able to fully understand techniques such as:\n",
    "\n",
    "Backpropagation in neural networks\n",
    "\n",
    "Regression using optimal least square\n",
    "\n",
    "Expectation maximization in fitting probability models"
   ]
  },
  {
   "cell_type": "markdown",
   "id": "b7e2e87a",
   "metadata": {},
   "source": [
    "### Exercise 1\n",
    "\n",
    "Let's say, in my office, it takes me 10 seconds (time) to travel 25 meters (distance) to the coffee machine.\n",
    "If we want to express the above situation as a function, then it would be:\n",
    "\n",
    "distance = speed * time\n",
    "\n",
    "So for this case, speed is the first derivative of the distance function above. As speed describes the rate of change of distance over time, when people say taking the first derivative of a certain function, they mean finding out the rate of change of a function.\n",
    "\n",
    "**Find the speed and build the linear function on distance $(d)$ over time $(t)$, when $(t ∈ [0,10])$.**"
   ]
  },
  {
   "cell_type": "code",
   "execution_count": 13,
   "id": "bb3e954e",
   "metadata": {},
   "outputs": [
    {
     "name": "stdout",
     "output_type": "stream",
     "text": [
      "2.5\n"
     ]
    }
   ],
   "source": [
    "# import libraries\n",
    "import numpy as np\n",
    "import matplotlib.pyplot as plt\n",
    "import pandas as pd\n",
    "\n",
    "s1= 25 / 10\n",
    "print (s1)\n",
    "\n",
    "# Define the distance function\n",
    "def d(t):\n",
    "    return t * s1\n",
    "\n",
    "t = np.linspace (0, 10, 100)"
   ]
  },
  {
   "cell_type": "code",
   "execution_count": 4,
   "id": "dbc4c780",
   "metadata": {},
   "outputs": [
    {
     "data": {
      "text/plain": [
       "[<matplotlib.lines.Line2D at 0x75348d7bf490>]"
      ]
     },
     "execution_count": 4,
     "metadata": {},
     "output_type": "execute_result"
    },
    {
     "data": {
      "image/png": "[encoded data removed]",
      "text/plain": [
       "<Figure size 640x480 with 1 Axes>"
      ]
     },
     "metadata": {},
     "output_type": "display_data"
    }
   ],
   "source": [
    "# Plot the distance function on domain (t)\n",
    "\n",
    "plt.plot(t, d(t), label ='distance')\n"
   ]
  },
  {
   "cell_type": "code",
   "execution_count": 6,
   "id": "4c4d4f20",
   "metadata": {},
   "outputs": [
    {
     "name": "stdout",
     "output_type": "stream",
     "text": [
      "    Tiempo (s)  Distancia (m)  Velocidad (m/s)\n",
      "0            3            7.5              2.5\n",
      "1            6           15.0              2.5\n",
      "2           10           25.0              2.5\n",
      "3            2            5.0              2.5\n",
      "4            6           15.0              2.5\n",
      "..         ...            ...              ...\n",
      "95           4           10.0              2.5\n",
      "96           3            7.5              2.5\n",
      "97          10           25.0              2.5\n",
      "98           2            5.0              2.5\n",
      "99          10           25.0              2.5\n",
      "\n",
      "[100 rows x 3 columns]\n"
     ]
    }
   ],
   "source": [
    "# Create a DataFrame\n",
    "\n",
    "ej1 = {\n",
    "    'Tiempo (s)': np.round(t, 2),\n",
    "    'Distancia (m)': np.round(d(t), 2),\n",
    "    'Velocidad (m/s)': np.round(s1, 2)\n",
    "}\n",
    "\n",
    "df_ej1 = pd.DataFrame (ej1)\n",
    "\n",
    "print (df_ej1)\n"
   ]
  },
  {
   "cell_type": "markdown",
   "id": "1144168d",
   "metadata": {},
   "source": [
    "### Exercise 2\n",
    "\n",
    "It turned out that I wasn't walking a constant speed towards getting my coffee, but I was accelerating (my speed increased over time). If my initial *speed = 0*, it still took me 10 seconds to travel from my seat to my coffee, but I was walking faster and faster.\n",
    "\n",
    "$V_o$ = initial speed = $0$\n",
    "\n",
    "t = time\n",
    "\n",
    "a = acceleration\n",
    "\n",
    "**distance** = $V_o * t + 0.5 * a * (t^2)$\n",
    "\n",
    "**speed** = $V_o + a * t$\n",
    "\n",
    "The first derivative of the speed function is acceleration. I realize that the speed function is closely related to the distance function.\n",
    "\n",
    "**Find the acceleration value and build the quadratic function  $(t ∈ [0,10])$. Also, create a graph and a table.**"
   ]
  },
  {
   "cell_type": "code",
   "execution_count": 18,
   "id": "ec1f8bd7",
   "metadata": {},
   "outputs": [
    {
     "name": "stdout",
     "output_type": "stream",
     "text": [
      "0.5\n"
     ]
    },
    {
     "ename": "TypeError",
     "evalue": "'str' object is not callable",
     "output_type": "error",
     "traceback": [
      "\u001b[0;31m---------------------------------------------------------------------------\u001b[0m",
      "\u001b[0;31mTypeError\u001b[0m                                 Traceback (most recent call last)",
      "Cell \u001b[0;32mIn[18], line 14\u001b[0m\n\u001b[1;32m     10\u001b[0m     \u001b[38;5;28;01mreturn\u001b[39;00m t\u001b[38;5;241m*\u001b[39m\u001b[38;5;241m*\u001b[39m\u001b[38;5;241m2\u001b[39m \u001b[38;5;241m*\u001b[39m a \u001b[38;5;241m*\u001b[39m \u001b[38;5;241m0.5\u001b[39m\n\u001b[1;32m     13\u001b[0m plt\u001b[38;5;241m.\u001b[39mplot (t, d2(t))\n\u001b[0;32m---> 14\u001b[0m \u001b[43mplt\u001b[49m\u001b[38;5;241;43m.\u001b[39;49m\u001b[43mxlabel\u001b[49m\u001b[43m(\u001b[49m\u001b[38;5;124;43m'\u001b[39;49m\u001b[38;5;124;43mTime\u001b[39;49m\u001b[38;5;124;43m'\u001b[39;49m\u001b[43m)\u001b[49m  \u001b[38;5;66;03m# Título para el eje X\u001b[39;00m\n\u001b[1;32m     15\u001b[0m plt\u001b[38;5;241m.\u001b[39mylabel(\u001b[38;5;124m'\u001b[39m\u001b[38;5;124mDistance\u001b[39m\u001b[38;5;124m'\u001b[39m)  \u001b[38;5;66;03m# Puedes agregar también un título para el eje Y\u001b[39;00m\n\u001b[1;32m     16\u001b[0m plt\u001b[38;5;241m.\u001b[39mtitle(\u001b[38;5;124m'\u001b[39m\u001b[38;5;124mGráfico de mts recorridos por tiempo\u001b[39m\u001b[38;5;124m'\u001b[39m)  \u001b[38;5;66;03m# Opcional: título para el gráfico\u001b[39;00m\n",
      "\u001b[0;31mTypeError\u001b[0m: 'str' object is not callable"
     ]
    },
    {
     "data": {
      "image/png": "[encoded data removed]",
      "text/plain": [
       "<Figure size 640x480 with 1 Axes>"
      ]
     },
     "metadata": {},
     "output_type": "display_data"
    }
   ],
   "source": [
    "# Define and plot the quadratic funtion\n",
    "d = 25\n",
    "\n",
    "a = d / (0.5 * 10**2)\n",
    "print (a)\n",
    "\n",
    "s2 = a * t**2\n",
    "\n",
    "def d2 (t):\n",
    "    return t**2 * a * 0.5\n",
    "\n",
    "\n",
    "plt.plot (t, d2(t))\n",
    "plt.xlabel('Time')  # Título para el eje X\n",
    "plt.ylabel('Distance')  # Puedes agregar también un título para el eje Y\n",
    "plt.title('Gráfico de mts recorridos por tiempo')  # Opcional: título para el gráfico\n",
    "plt.show()"
   ]
  },
  {
   "cell_type": "code",
   "execution_count": 11,
   "id": "ba5c497b",
   "metadata": {},
   "outputs": [
    {
     "name": "stdout",
     "output_type": "stream",
     "text": [
      "    Tiempo (s)  Distancia (m)  Velocidad (m/s)\n",
      "0            3           2.25              4.5\n",
      "1            6           9.00             18.0\n",
      "2           10          25.00             50.0\n",
      "3            2           1.00              2.0\n",
      "4            6           9.00             18.0\n",
      "..         ...            ...              ...\n",
      "95           4           4.00              8.0\n",
      "96           3           2.25              4.5\n",
      "97          10          25.00             50.0\n",
      "98           2           1.00              2.0\n",
      "99          10          25.00             50.0\n",
      "\n",
      "[100 rows x 3 columns]\n"
     ]
    }
   ],
   "source": [
    "# Create a DataFrame\n",
    "ej2 = {\n",
    "    \"Tiempo (s)\": np.round(t, 2),\n",
    "    \"Distancia (m)\": np.round(d2(t), 2),\n",
    "    \"Velocidad (m/s)\": np.round(s2, 2)\n",
    "}\n",
    "\n",
    "df_ej2 = pd.DataFrame(ej2)\n",
    "\n",
    "print (df_ej2)"
   ]
  },
  {
   "cell_type": "markdown",
   "id": "66d4cc18",
   "metadata": {},
   "source": [
    "Before exercise 3, we'll make a brief introduction to Gradient Descent algorithm, which will have a larger explanation in future modules of the bootcamp.\n",
    "\n",
    "Gradient Descent algorithm is the hero behind the family of deep learning algorithms. When an algorithm in this family runs, it tries to minimize the error between the training input and predicted output. This minimization is done by optimization algorithms, and gradient descent is the most popular one.\n",
    "\n",
    "Let's say you have these input & output pairs:\n",
    "\n",
    "```py\n",
    "# Input:\n",
    "[\n",
    " [1,2],\n",
    " [3,4]\n",
    "]\n",
    "\n",
    "# Output:\n",
    "[\n",
    " [50],\n",
    " [110]\n",
    "]\n",
    "```\n",
    "\n",
    "We can estimate that if we multiply the input values by [10, 20], we can have the output as shown above.\n",
    "\n",
    "```py\n",
    "1(10) + 2(20) = 50\n",
    "\n",
    "3(10) + 4(20) = 110\n",
    "```\n",
    "\n",
    "When a machine learning algorithm starts running, it assigns random values and makes a prediction. \n",
    "Let's say it assigned [1,2] values:\n",
    "\n",
    "```py\n",
    "1(1) + 2(2) = 5\n",
    "\n",
    "3(1) + 4(2) = 11\n",
    "```\n",
    "\n",
    "Once it has the predictions, it calculates the error: the difference between the real data and the predicted data. There are many ways to calculate the error, and they are called loss functions.\n",
    "\n",
    "Once we have this value, the optimization algorithm starts showing itself, and it sets new values which replace the initial random values. \n",
    "\n",
    "And, the loop continues until a condition is met. That condition can be to loop *n* times, or to loop until the error is smaller than a value."
   ]
  },
  {
   "cell_type": "markdown",
   "id": "85ef2f0b",
   "metadata": {},
   "source": [
    "It can be hard to understand **gradient descent** without understanding **gradient**. So, let's focus on what a gradient is. The gradient shows the direction of the greatest change of a scalar function. The gradient calculation is done with derivatives, so let's start with a simple example. To calculate the gradient, we just need to remember some linear algebra calculations from high school because we need to calculate derivatives.\n",
    "\n",
    "Let's say we want to find the minimum point of $f(x) = x^2$. The derivative of that function is $df(x)=2x$. \n",
    "\n",
    "The gradient of $f(x)$ at point $x=-10$\n",
    "\n",
    "is \n",
    "\n",
    "$df(-10)=-20$.\n",
    "\n",
    "The gradient of $f(x)$ at point $x=1$\n",
    "\n",
    "is \n",
    "\n",
    "$df(1)=2$.\n",
    "\n",
    "Now let’s visualize $f(x)$ and those $x=-10$ and $x=1$ points."
   ]
  },
  {
   "cell_type": "code",
   "execution_count": 22,
   "id": "4ff7e11a",
   "metadata": {},
   "outputs": [],
   "source": [
    "import numpy as np\n",
    "import seaborn as sns\n",
    "\n",
    "def f(x):\n",
    "    return x**2\n",
    "\n",
    "def df(x):\n",
    "    return 2*x\n",
    "\n",
    "def visualize(f, x=None):\n",
    "    \n",
    "    xArray = np.linspace(-10, 10, 100) \n",
    "    yArray = f(xArray)\n",
    "    sns.lineplot(x=xArray, y=yArray)\n",
    "    \n",
    "    if x is not None:\n",
    "        assert type(x) in [np.ndarray, list] # x should be numpy array or list\n",
    "        if type(x) is list: # if it is a list, convert to numpy array\n",
    "            x = np.array(x)\n",
    "\n",
    "            \n",
    "        y = f(x)\n",
    "        sns.scatterplot(x=x, y=y, color='red')"
   ]
  },
  {
   "cell_type": "code",
   "execution_count": 23,
   "id": "633a54fd",
   "metadata": {},
   "outputs": [
    {
     "data": {
      "image/png": "[encoded data removed]",
      "text/plain": [
       "<Figure size 432x288 with 1 Axes>"
      ]
     },
     "metadata": {
      "needs_background": "light"
     },
     "output_type": "display_data"
    }
   ],
   "source": [
    "visualize(f, x=[-10, 1])"
   ]
  },
  {
   "cell_type": "markdown",
   "id": "9c187ad7",
   "metadata": {},
   "source": [
    "The red dot at x=-10 does not know the surface it stands on, and it only knows the coordinates of where it stands and the gradient of itself, which is -20. And the other red dot at x=1 does not know the surface it stands on; it only knows the coordinates of where it stands and the gradient of itself, which is 2.\n",
    "\n",
    "By having only this information: we can say that the red dot at x=-10 should make a bigger jump than x=1 because it has a bigger absolute gradient value. The sign shows the direction. Minus (-) shows that the red dot at x=-10 should move to the right and the other one should move to the left.\n",
    "\n",
    "In summary, the red dot at x=-10 (gradient: -20) should make a bigger jump to the right, and the red dot at x=1 (gradient: 2) should make a smaller jump to the left. \n",
    "\n",
    "We know that the jump length should be proportional to the gradient, but what is that value exactly? We don’t know. So, let’s just say that red points should move with the length of *alpha * gradient*, where alpha is just a parameter.\n",
    "\n",
    "We can say that the new location of the red dot should be calculated with the following formula:\n",
    "\n",
    "x = x - gradient * alpha"
   ]
  },
  {
   "cell_type": "markdown",
   "id": "0a7f5c3f",
   "metadata": {},
   "source": [
    "Now let's implement this with **NumPy**. Let's start with visualizing the $f(x)=x^2$ function and the $x=-10$ point."
   ]
  },
  {
   "cell_type": "code",
   "execution_count": 24,
   "id": "e26dbdf0",
   "metadata": {},
   "outputs": [
    {
     "data": {
      "image/png": "[encoded data removed]",
      "text/plain": [
       "<Figure size 432x288 with 1 Axes>"
      ]
     },
     "metadata": {
      "needs_background": "light"
     },
     "output_type": "display_data"
    }
   ],
   "source": [
    "visualize(f, x=[-10])"
   ]
  },
  {
   "cell_type": "markdown",
   "id": "6e752e19",
   "metadata": {},
   "source": [
    "The following code implements the whole logic explained before:"
   ]
  },
  {
   "cell_type": "code",
   "execution_count": 25,
   "id": "2bdd54f1",
   "metadata": {},
   "outputs": [],
   "source": [
    "def gradient_descent(x, nsteps=1):\n",
    "    \n",
    "    \n",
    "    # collectXs is an array to store how x changed in each iteration, so we can visualize it later\n",
    "    \n",
    "    collectXs = [x]\n",
    "    \n",
    "    # learning_rate is the value that we mentioned as alpha in the previous section\n",
    "    \n",
    "    learning_rate = 1e-01\n",
    "    \n",
    "    for _ in range(nsteps):\n",
    "        \n",
    "        # The following one line does the real magic\n",
    "        # The next value of x is calculated by subtracting the gradient * learning_rate by itself\n",
    "        # The intuition behind this line is in the previous section\n",
    "        \n",
    "        x -= df(x) * learning_rate \n",
    "        collectXs.append(x)\n",
    "        \n",
    "    # We return a tuple that contains\n",
    "    # x -> recent x after nsteps \n",
    "    # collectXs -> all the x values that were calculated so far\n",
    "    \n",
    "    return x, collectXs"
   ]
  },
  {
   "cell_type": "markdown",
   "id": "aea74a65",
   "metadata": {},
   "source": [
    "Before running a gradient descent with 1000 steps, let's just run it twice, one step at a time, to see how x evolves. \n",
    "We start with x=-10, and it evolves to x=-8. We know that when x=0 that is the **minimum point**, so yes, it is evolving in the correct direction."
   ]
  },
  {
   "cell_type": "code",
   "execution_count": 26,
   "id": "0350981e",
   "metadata": {},
   "outputs": [
    {
     "name": "stdout",
     "output_type": "stream",
     "text": [
      "-8.0\n"
     ]
    }
   ],
   "source": [
    "x=-10\n",
    "x, collectedXs = gradient_descent(x, nsteps=1)\n",
    "print(x)"
   ]
  },
  {
   "cell_type": "code",
   "execution_count": 27,
   "id": "f8e01e2d",
   "metadata": {},
   "outputs": [
    {
     "name": "stdout",
     "output_type": "stream",
     "text": [
      "-6.4\n"
     ]
    }
   ],
   "source": [
    "# The next step will start at x=-8. Let's run a gradient for 1 step\n",
    "\n",
    "x, collectedXs = gradient_descent(x, nsteps=1)\n",
    "print(x)"
   ]
  },
  {
   "cell_type": "markdown",
   "id": "93f13b32",
   "metadata": {},
   "source": [
    "It goes to x=-6.4. Excellent. Now let's run it 1000 times"
   ]
  },
  {
   "cell_type": "code",
   "execution_count": 28,
   "id": "b699d1fb",
   "metadata": {},
   "outputs": [
    {
     "name": "stdout",
     "output_type": "stream",
     "text": [
      "-7.873484301831169e-97\n"
     ]
    }
   ],
   "source": [
    "x, collectedXs = gradient_descent(x, nsteps=1000)\n",
    "print(x)"
   ]
  },
  {
   "cell_type": "code",
   "execution_count": 29,
   "id": "0b76ee22",
   "metadata": {},
   "outputs": [
    {
     "data": {
      "image/png": "[encoded data removed]",
      "text/plain": [
       "<Figure size 432x288 with 1 Axes>"
      ]
     },
     "metadata": {
      "needs_background": "light"
     },
     "output_type": "display_data"
    }
   ],
   "source": [
    "visualize(f, x=collectedXs)"
   ]
  },
  {
   "cell_type": "markdown",
   "id": "d00d2fbb",
   "metadata": {},
   "source": [
    "### Exercise 3\n",
    "\n",
    "When I arrive to the coffee machine, I hear my colleague talking about the per-unit costs of producing 'product B' for the company. As the company produces more units, the per-unit costs continue to decrease until a point where they start to increase.\n",
    "\n",
    "To optimize the per-unit production cost at its minimum to optimize efficiency, the company would need to find the number of units to be produced where the per-unit production costs begin to change from decreasing to increasing.\n",
    "\n",
    "**Build a quadratic function $f(x)=0.1(x)^2−9x +4500$ on $x∈[0,100]$ to create the per-unit cost function, and make a conclusion.**"
   ]
  },
  {
   "cell_type": "code",
   "execution_count": null,
   "id": "7c67d8b7",
   "metadata": {},
   "outputs": [],
   "source": [
    "# Define and plot the function"
   ]
  },
  {
   "cell_type": "markdown",
   "id": "fbe54895",
   "metadata": {},
   "source": [
    "We saw with Gradient Descent how the red dot navigates in an environment it does not know about. It only knows the coordinates of where it is and its gradient. The red dot could find the minimum point by using only this knowledge and the gradient descent algorithm.\n",
    "\n",
    "**Optional:**\n",
    "\n",
    "Implement all the previous steps to create a gradient descent algorithm to see how the per-unit cost evolves, with a starting point of 0 units of production."
   ]
  },
  {
   "cell_type": "markdown",
   "id": "aabad82c",
   "metadata": {},
   "source": [
    "## Linear Algebra"
   ]
  },
  {
   "cell_type": "markdown",
   "id": "6753636d",
   "metadata": {},
   "source": [
    "### Exercise 1: Sum of two matrices\n",
    "\n",
    "Suppose we have two matrices A and B.\n",
    "\n",
    "```py\n",
    "A = [[1,2],[3,4]]\n",
    "B = [[4,5],[6,7]]\n",
    "\n",
    "then we get\n",
    "A+B = [[5,7],[9,11]]\n",
    "A-B = [[-3,-3],[-3,-3]]\n",
    "```\n",
    "\n",
    "Make the sum of two matrices using Python with NumPy"
   ]
  },
  {
   "cell_type": "code",
   "execution_count": null,
   "id": "9e200c32",
   "metadata": {},
   "outputs": [],
   "source": [
    "# import numpy as np\n",
    "\n",
    " \n",
    " \n",
    "# Creating first matrix\n",
    "\n",
    " \n",
    "# Creating second matrix\n",
    "\n",
    " \n",
    "# Print elements\n",
    "\n",
    " \n",
    "# Adding both matrices\n"
   ]
  },
  {
   "cell_type": "markdown",
   "id": "93bfb6cc",
   "metadata": {},
   "source": [
    "### Exercise 2: Sum of two lists\n",
    "\n",
    "There will be many situations in which we'll have to find an index-wise summation of two different lists. This can have possible applications in day-to-day programming. In this exercise, we will solve the same problem in various ways in which this task can be performed.\n",
    "\n",
    "We have the following two lists:\n",
    "\n",
    "```py\n",
    "list1 = [2, 5, 4, 7, 3]\n",
    "list2 = [1, 4, 6, 9, 10]\n",
    "```\n",
    "\n",
    "Now let's use Python code to demonstrate addition of two lists."
   ]
  },
  {
   "cell_type": "code",
   "execution_count": null,
   "id": "867b70fc",
   "metadata": {},
   "outputs": [],
   "source": [
    "# Naive method\n",
    "\n",
    "# Initializing lists\n",
    "list1 = [2, 5, 4, 7, 3]\n",
    "list2 = [1, 4, 6, 9, 10]\n",
    " \n",
    "# Printing original lists\n",
    "print (\"Original list 1 : \" + str(list1))\n",
    "print (\"Original list 2 : \" + str(list2))\n",
    " \n",
    "# Using naive method to add two lists \n",
    "res_list = []\n",
    "for i in range(0, len(list1)):\n",
    "    res_list.append(list1[i] + list2[i])\n",
    " \n",
    "# Printing resulting list \n",
    "print (\"Resulting list is : \" + str(res_list))"
   ]
  },
  {
   "cell_type": "markdown",
   "id": "7a063d7f",
   "metadata": {},
   "source": [
    "Now use the following three different methods to make the same calculation: sum of two lists"
   ]
  },
  {
   "cell_type": "code",
   "execution_count": null,
   "id": "681930a3",
   "metadata": {},
   "outputs": [],
   "source": [
    "# Use list comprehension to perform addition of the two lists:\n",
    "\n",
    "\n",
    "# Initializing lists\n",
    "\n",
    " \n",
    "# Printing original lists\n",
    "\n",
    " \n",
    "# Using list comprehension to add two lists\n",
    "\n",
    " \n",
    "# Printing resulting list \n"
   ]
  },
  {
   "cell_type": "code",
   "execution_count": null,
   "id": "a3a8a425",
   "metadata": {},
   "outputs": [],
   "source": [
    "# Use map() + add():\n",
    "\n",
    "\n",
    "# Initializing lists\n",
    "\n",
    " \n",
    "# Printing original lists\n",
    "\n",
    " \n",
    "# Using map() + add() to add two lists\n",
    "\n",
    " \n",
    "# Printing resulting list "
   ]
  },
  {
   "cell_type": "code",
   "execution_count": null,
   "id": "1708d7ee",
   "metadata": {},
   "outputs": [],
   "source": [
    "# Use zip() + sum():\n",
    "\n",
    "\n",
    "# Initializing lists\n",
    "\n",
    " \n",
    "# Printing original lists\n",
    "\n",
    " \n",
    "# Using zip() + sum() to add two lists\n",
    "\n",
    " \n",
    "# Printing resulting list "
   ]
  },
  {
   "cell_type": "markdown",
   "id": "1aef1bd2",
   "metadata": {},
   "source": [
    "### Exercise 3: Dot multiplication\n",
    "\n",
    "We have two matrices:\n",
    "\n",
    "```py\n",
    "matrix1 = [[1,7,3],\n",
    " [4,5,2],\n",
    " [3,6,1]]\n",
    "matrix2 = [[5,4,1],\n",
    " [1,2,3],\n",
    " [4,5,2]]\n",
    "```\n",
    "\n",
    "A simple technique but expensive method for larger input datasets is using *for loops*. In this exercise, we will first use nested *for loops* to iterate through each row and column of the matrices, and then we will perform the same multiplication using NumPy."
   ]
  },
  {
   "cell_type": "code",
   "execution_count": null,
   "id": "840e7d0e",
   "metadata": {},
   "outputs": [],
   "source": [
    "# Using a for loop input two matrices of size n x m\n",
    "matrix1 = [[1,7,3],\n",
    " [4,5,2],\n",
    " [3,6,1]]\n",
    "matrix2 = [[5,4,1],\n",
    " [1,2,3],\n",
    " [4,5,2]]\n",
    " \n",
    "res = [[0 for x in range(3)] for y in range(3)]\n",
    " \n",
    "# Explicit for loops\n",
    "for i in range(len(matrix1)):\n",
    "    for j in range(len(matrix2[0])):\n",
    "        for k in range(len(matrix2)):\n",
    " \n",
    "            # Resulting matrix\n",
    "            res[i][j] += matrix1[i][k] * matrix2[k][j]\n",
    " \n",
    "print(res)"
   ]
  },
  {
   "cell_type": "code",
   "execution_count": null,
   "id": "db6c3355",
   "metadata": {},
   "outputs": [],
   "source": [
    "# Import libraries\n",
    "\n",
    " \n",
    "# Input two matrices\n",
    "\n",
    " \n",
    "# This will return dot product\n",
    "\n",
    " \n",
    "# Print resulting matrix\n"
   ]
  },
  {
   "cell_type": "markdown",
   "id": "785f6c30",
   "metadata": {},
   "source": [
    "Source:\n",
    "\n",
    "https://www.youtube.com/channel/UCXq-PLvYAX-EufF5RAPihVg\n",
    "\n",
    "https://www.geeksforgeeks.org/\n",
    "\n",
    "https://medium.com/@seehleung/basic-calculus-explained-for-machine-learning-c7f642e7ced3\n",
    "\n",
    "https://blog.demir.io/understanding-gradient-descent-266fc3dcf02f"
   ]
  }
 ],
 "metadata": {
  "kernelspec": {
   "display_name": "Python 3",
   "language": "python",
   "name": "python3"
  },
  "language_info": {
   "codemirror_mode": {
    "name": "ipython",
    "version": 3
   },
   "file_extension": ".py",
   "mimetype": "text/x-python",
   "name": "python",
   "nbconvert_exporter": "python",
   "pygments_lexer": "ipython3",
   "version": "3.11.4"
  }
 },
 "nbformat": 4,
 "nbformat_minor": 5
}
